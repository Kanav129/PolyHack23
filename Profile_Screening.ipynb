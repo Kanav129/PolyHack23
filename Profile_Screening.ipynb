{
  "cells": [
    {
      "cell_type": "markdown",
      "source": [
        "## **Profile Screening**"
      ],
      "metadata": {
        "id": "YFrM-DAkNS_t"
      },
      "id": "YFrM-DAkNS_t"
    },
    {
      "cell_type": "code",
      "execution_count": null,
      "id": "07dbf337",
      "metadata": {
        "id": "07dbf337",
        "outputId": "35a610a9-d524-4a84-992c-55b2d3db5e65"
      },
      "outputs": [
        {
          "name": "stdout",
          "output_type": "stream",
          "text": [
            "Requirement already satisfied: instaloader in c:\\users\\khasibabibi\\anaconda3\\lib\\site-packages (4.9.6)\n",
            "Requirement already satisfied: requests>=2.4 in c:\\users\\khasibabibi\\anaconda3\\lib\\site-packages (from instaloader) (2.27.1)\n",
            "Requirement already satisfied: urllib3<1.27,>=1.21.1 in c:\\users\\khasibabibi\\anaconda3\\lib\\site-packages (from requests>=2.4->instaloader) (1.26.9)\n",
            "Requirement already satisfied: idna<4,>=2.5 in c:\\users\\khasibabibi\\anaconda3\\lib\\site-packages (from requests>=2.4->instaloader) (3.3)\n",
            "Requirement already satisfied: charset-normalizer~=2.0.0 in c:\\users\\khasibabibi\\anaconda3\\lib\\site-packages (from requests>=2.4->instaloader) (2.0.4)\n",
            "Requirement already satisfied: certifi>=2017.4.17 in c:\\users\\khasibabibi\\anaconda3\\lib\\site-packages (from requests>=2.4->instaloader) (2021.10.8)\n"
          ]
        }
      ],
      "source": [
        "!pip install instaloader"
      ]
    },
    {
      "cell_type": "code",
      "execution_count": null,
      "id": "3f4dfa24",
      "metadata": {
        "id": "3f4dfa24",
        "outputId": "725125f5-4c33-4a44-cf9b-e9afe0e19cf9"
      },
      "outputs": [
        {
          "name": "stdout",
          "output_type": "stream",
          "text": [
            "Username:  aliwong\n",
            "User ID:  49108675\n",
            "Number of Posts:  22\n",
            "Followers Count:  2279260\n",
            "Following Count:  913\n",
            "Bio:  I’m on tour! Come see my new stand up hour live. Link to tix and info👇\n",
            "External URL:  http://www.aliwong.com/\n"
          ]
        }
      ],
      "source": [
        "import instaloader\n",
        "import pandas as pd\n",
        "\n",
        "# Creating an instance of the Instaloader class\n",
        "bot = instaloader.Instaloader()\n",
        "\n",
        "# Loading a profile from an Instagram handle\n",
        "profile = instaloader.Profile.from_username(bot.context, 'aliwong')\n",
        "print(\"Username: \", profile.username)\n",
        "print(\"User ID: \", profile.userid)\n",
        "print(\"Number of Posts: \", profile.mediacount)\n",
        "print(\"Followers Count: \", profile.followers)\n",
        "print(\"Following Count: \", profile.followees)\n",
        "print(\"Bio: \", profile.biography)\n",
        "print(\"External URL: \", profile.external_url)"
      ]
    },
    {
      "cell_type": "markdown",
      "source": [
        "**Download all post for the target user**"
      ],
      "metadata": {
        "id": "TwmRknb9Nnoo"
      },
      "id": "TwmRknb9Nnoo"
    },
    {
      "cell_type": "code",
      "execution_count": null,
      "id": "55b006ae",
      "metadata": {
        "id": "55b006ae",
        "outputId": "009d7409-11b6-4bf4-8303-fcf0b434eac8"
      },
      "outputs": [
        {
          "name": "stdout",
          "output_type": "stream",
          "text": [
            "aliwong_1\\2023-06-14_20-03-03_UTC.jpg exists [SEATTLE! Due to overwhelming …] unchanged json \n",
            "aliwong_2\\2023-05-25_16-01-29_UTC.jpg exists [🙏 @vanityfair   Photo @studio…] unchanged json \n",
            "aliwong_3\\2023-05-16_21-02-35_UTC.jpg exists [SAN FRANCISCO and LAS VEGAS! …] unchanged json \n",
            "aliwong_4\\2023-04-14_15-17-39_UTC_1.jpg exists aliwong_4\\2023-04-14_15-17-39_UTC_2.jpg exists [Honored to be on this year’s …] unchanged json \n",
            "aliwong_5\\2023-04-11_17-19-11_UTC.jpg exists [❤️ These two ❤️   Have you wa…] unchanged json \n",
            "aliwong_6\\2023-03-30_14-41-02_UTC_1.jpg exists aliwong_6\\2023-03-30_14-41-02_UTC_2.jpg exists aliwong_6\\2023-03-30_14-41-02_UTC_3.jpg exists aliwong_6\\2023-03-30_14-41-02_UTC_4.jpg exists aliwong_6\\2023-03-30_14-41-02_UTC_5.jpg exists aliwong_6\\2023-03-30_14-41-02_UTC_6.jpg exists aliwong_6\\2023-03-30_14-41-02_UTC_7.jpg exists aliwong_6\\2023-03-30_14-41-02_UTC_8.jpg exists aliwong_6\\2023-03-30_14-41-02_UTC_9.jpg exists [🙏 @thecut   Writer @evanrossk…] unchanged json \n",
            "aliwong_7\\2023-03-29_19-16-02_UTC.jpg exists [🙏 @thecut   Writer @evanrossk…] unchanged json \n",
            "aliwong_8\\2023-03-27_19-33-41_UTC.jpg exists [April 6 🥩 🥩 🥩] unchanged json \n",
            "aliwong_9\\2023-03-16_16-23-17_UTC.jpg exists [Created by the brilliant @beh…] unchanged json \n",
            "aliwong_10\\2023-03-15_16-07-14_UTC.jpg exists [BEEF. April 6. @netflix.] unchanged aliwong_10\\2023-03-15_16-07-14_UTC.mp4 exists json \n",
            "aliwong_11\\2023-03-02_17-55-10_UTC_1.jpg exists aliwong_11\\2023-03-02_17-55-10_UTC_2.jpg exists aliwong_11\\2023-03-02_17-55-10_UTC_3.jpg exists aliwong_11\\2023-03-02_17-55-10_UTC_4.jpg exists aliwong_11\\2023-03-02_17-55-10_UTC_5.jpg exists aliwong_11\\2023-03-02_17-55-10_UTC_6.jpg exists [Going on tour with a brand ne…] unchanged json \n",
            "aliwong_12\\2023-03-01_16-37-38_UTC.jpg exists [BEEF. April 6. @netflix   Tha…] unchanged json \n",
            "aliwong_13\\2022-07-12_22-45-18_UTC.jpg exists [My first Emmy nomination 😭 ❤️ 🙏] unchanged json \n",
            "aliwong_14\\2022-04-20_19-07-07_UTC.jpg exists [Incredibly excited and honore…] unchanged json \n",
            "aliwong_15\\2022-04-18_20-10-32_UTC_1.jpg exists aliwong_15\\2022-04-18_20-10-32_UTC_2.jpg exists aliwong_15\\2022-04-18_20-10-32_UTC_3.jpg exists [🙌] unchanged json \n",
            "aliwong_16\\2022-03-09_18-32-26_UTC_1.jpg exists aliwong_16\\2022-03-09_18-32-26_UTC_2.jpg exists aliwong_16\\2022-03-09_18-32-26_UTC_3.jpg exists aliwong_16\\2022-03-09_18-32-26_UTC_4.jpg exists [If you know, you know. “Dirty…] unchanged json \n",
            "aliwong_17\\2022-03-04_21-57-16_UTC_1.jpg exists aliwong_17\\2022-03-04_21-57-16_UTC_2.jpg exists aliwong_17\\2022-03-04_21-57-16_UTC_3.jpg exists [“Trilogy” sweatshirt and tee …] unchanged json \n",
            "aliwong_18\\2022-02-14_17-04-05_UTC.jpg exists [Happy Valentine’s Day ❤️ DON …] unchanged json \n",
            "aliwong_19\\2022-02-07_22-22-04_UTC.jpg exists [❤️ Valentine’s Day ❤️] unchanged json \n",
            "aliwong_20\\2022-02-01_15-02-41_UTC.jpg exists [My third Netflix special DON …] unchanged aliwong_20\\2022-02-01_15-02-41_UTC.mp4 exists json \n",
            "aliwong_21\\2019-12-13_16-32-47_UTC.jpg exists aliwong_21\\2019-12-13_16-32-47_UTC.mp4 exists json \n",
            "aliwong_22\\2019-10-06_14-37-13_UTC.jpg exists [My ex-boyfriend came to the s…] unchanged json \n"
          ]
        }
      ],
      "source": [
        "# Retrieving all posts in an object\n",
        "profile = instaloader.Profile.from_username(bot.context, 'aliwong')\n",
        "\n",
        "posts = profile.get_posts()\n",
        "\n",
        "# Iterating and downloading all the individual posts\n",
        "for index, post in enumerate(posts, 1):\n",
        "    bot.download_post(post, target=f\"{profile.username}_{index}\")"
      ]
    }
  ],
  "metadata": {
    "kernelspec": {
      "display_name": "Python 3 (ipykernel)",
      "language": "python",
      "name": "python3"
    },
    "language_info": {
      "codemirror_mode": {
        "name": "ipython",
        "version": 3
      },
      "file_extension": ".py",
      "mimetype": "text/x-python",
      "name": "python",
      "nbconvert_exporter": "python",
      "pygments_lexer": "ipython3",
      "version": "3.9.12"
    },
    "colab": {
      "provenance": []
    }
  },
  "nbformat": 4,
  "nbformat_minor": 5
}